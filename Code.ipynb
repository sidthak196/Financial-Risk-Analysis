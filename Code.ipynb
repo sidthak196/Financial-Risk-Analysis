{
 "cells": [
  {
   "cell_type": "markdown",
   "metadata": {},
   "source": [
    "# Code"
   ]
  },
  {
   "cell_type": "markdown",
   "metadata": {},
   "source": [
    "## Initialize"
   ]
  },
  {
   "cell_type": "code",
   "execution_count": 58,
   "metadata": {},
   "outputs": [],
   "source": [
    "import pandas as pd\n",
    "import numpy as np\n",
    "import datetime as dt\n",
    "import yfinance as yf\n",
    "import matplotlib.pyplot as plt\n",
    "import statsmodels.graphics.tsaplots as tsplot\n",
    "import arch as arch"
   ]
  },
  {
   "cell_type": "markdown",
   "metadata": {},
   "source": [
    "## Create database"
   ]
  },
  {
   "cell_type": "code",
   "execution_count": 298,
   "metadata": {},
   "outputs": [],
   "source": [
    "#Create the Stock and Index price database \n",
    "st_date = dt.datetime(2019,1,1)\n",
    "en_date = dt.datetime(2022,2,28)\n",
    "stks_needed = ['JPM', 'SPY']#^GSPC\n",
    "Stk_prices_list = []\n",
    "flag = 0\n",
    "for tc in list(stks_needed):\n",
    "    if flag ==0 : \n",
    "        flag =1 \n",
    "        Stk_prices_list.append(yf.Ticker(tc).history(start=st_date,end=en_date).index)\n",
    "    Stk_prices_list.append(yf.Ticker(tc).history(start=st_date,end=en_date)['Close'].tolist())\n",
    "\n",
    "#Create Database of stock prices\n",
    "dataframe = pd.DataFrame(list(map(list, zip(*Stk_prices_list))),columns=['Date','JPM','SPY'])\n"
   ]
  },
  {
   "cell_type": "markdown",
   "metadata": {},
   "source": [
    "## Analyze Data and Build Up Risk Measures"
   ]
  },
  {
   "cell_type": "code",
   "execution_count": 299,
   "metadata": {},
   "outputs": [
    {
     "name": "stdout",
     "output_type": "stream",
     "text": [
      "Iteration:      1,   Func. Count:      5,   Neg. LLF: 3149.429475552561\n",
      "Iteration:      2,   Func. Count:     14,   Neg. LLF: 972.9358862465979\n",
      "Iteration:      3,   Func. Count:     20,   Neg. LLF: 3053.7828246490585\n",
      "Iteration:      4,   Func. Count:     26,   Neg. LLF: 260.97946646214456\n",
      "Iteration:      5,   Func. Count:     30,   Neg. LLF: 260.97804718235744\n",
      "Iteration:      6,   Func. Count:     34,   Neg. LLF: 260.97804568513277\n",
      "Iteration:      7,   Func. Count:     37,   Neg. LLF: 260.97804568525873\n",
      "Optimization terminated successfully    (Exit mode 0)\n",
      "            Current function value: 260.97804568513277\n",
      "            Iterations: 7\n",
      "            Function evaluations: 37\n",
      "            Gradient evaluations: 7\n",
      "Iteration:      1,   Func. Count:      5,   Neg. LLF: 544.6373246584919\n",
      "Iteration:      2,   Func. Count:     14,   Neg. LLF: 673.5652075185335\n",
      "Iteration:      3,   Func. Count:     20,   Neg. LLF: 0.859632289960075\n",
      "Iteration:      4,   Func. Count:     25,   Neg. LLF: -296.3605011314786\n",
      "Iteration:      5,   Func. Count:     30,   Neg. LLF: -297.67004126977406\n",
      "Iteration:      6,   Func. Count:     34,   Neg. LLF: -297.67816495562107\n",
      "Iteration:      7,   Func. Count:     38,   Neg. LLF: -297.6782252791661\n",
      "Iteration:      8,   Func. Count:     42,   Neg. LLF: -297.67823855163965\n",
      "Iteration:      9,   Func. Count:     45,   Neg. LLF: -297.67823855207536\n",
      "Optimization terminated successfully    (Exit mode 0)\n",
      "            Current function value: -297.67823855163965\n",
      "            Iterations: 9\n",
      "            Function evaluations: 45\n",
      "            Gradient evaluations: 9\n"
     ]
    },
    {
     "name": "stderr",
     "output_type": "stream",
     "text": [
      "C:\\Users\\siddh\\AppData\\Local\\Packages\\PythonSoftwareFoundation.Python.3.9_qbz5n2kfra8p0\\LocalCache\\local-packages\\Python39\\site-packages\\arch\\univariate\\base.py:309: DataScaleWarning: y is poorly scaled, which may affect convergence of the optimizer when\n",
      "estimating the model parameters. The scale of y is 0.06058. Parameter\n",
      "estimation work better when this value is between 1 and 1000. The recommended\n",
      "rescaling is 10 * y.\n",
      "\n",
      "This warning can be disabled by either rescaling y before initializing the\n",
      "model or by setting rescale=False.\n",
      "\n",
      "  warnings.warn(\n"
     ]
    }
   ],
   "source": [
    "Scalar = 100\n",
    "# Estimate both your symbol and SPY (independently) log return volatility using GARCH (1,1) from data Jan 1, 2019 to Dec 31, 2021\n",
    "dataframe[\"JPM_Log_returns\"] = [np.log(i) for i in dataframe[\"JPM\"]]\n",
    "dataframe[\"JPM_Log_returns\"]=dataframe[\"JPM_Log_returns\"].pct_change()*Scalar\n",
    "dataframe[\"SPY_Log_returns\"] = [np.log(i) for i in dataframe[\"SPY\"]]\n",
    "dataframe[\"SPY_Log_returns\"]=dataframe[\"SPY_Log_returns\"].pct_change()*Scalar\n",
    "\n",
    "Vol_JPM = np.std(dataframe['JPM_Log_returns'])\n",
    "Vol_SPY = np.std(dataframe['SPY_Log_returns'])\n",
    "\n",
    "#Check plots for Log returns \n",
    "# plt.plot(dataframe['JPM_Log_returns'])\n",
    "# plt.show()\n",
    "# print(np.mean(dataframe['JPM_Log_returns']))\n",
    "# plt.plot(dataframe['SPY_Log_returns'])\n",
    "# plt.show()\n",
    "# print(np.mean(dataframe['SPY_Log_returns']))\n",
    "# tsplot.plot_acf(dataframe['JPM_Log_returns'][1:])\n",
    "# plt.show()\n",
    "# tsplot.plot_acf(dataframe['SPY_Log_returns'][1:])\n",
    "# plt.show()\n",
    "# tsplot.plot_pacf(dataframe['JPM_Log_returns'][1:])\n",
    "# plt.show()\n",
    "# tsplot.plot_pacf(dataframe['SPY_Log_returns'][1:])\n",
    "# plt.show()\n",
    "\n",
    "#Get Train data based on date\n",
    "Train_end_date = dt.datetime(2021,12,31)\n",
    "Train_data = dataframe.loc[dataframe['Date']<=Train_end_date]\n",
    "Test_data = dataframe.loc[dataframe['Date']>Train_end_date]\n",
    "Total_len = len(dataframe) \n",
    "Test_len = Total_len -len(Train_data)\n",
    "\n",
    "\n",
    "#Fit Garch(1,1) model to data\n",
    "JPM_Garch_model = arch.arch_model(Train_data[\"JPM_Log_returns\"][1:],mean=\"Zero\",vol='GARCH',p=1,q=1).fit()\n",
    "SPY_Garch_model = arch.arch_model(Train_data[\"SPY_Log_returns\"][1:],mean=\"Zero\",vol='GARCH',p=1,q=1).fit()\n"
   ]
  },
  {
   "cell_type": "code",
   "execution_count": 300,
   "metadata": {},
   "outputs": [
    {
     "name": "stdout",
     "output_type": "stream",
     "text": [
      "                       Zero Mean - GARCH Model Results                        \n",
      "==============================================================================\n",
      "Dep. Variable:        JPM_Log_returns   R-squared:                       0.000\n",
      "Mean Model:                 Zero Mean   Adj. R-squared:                  0.001\n",
      "Vol Model:                      GARCH   Log-Likelihood:               -260.978\n",
      "Distribution:                  Normal   AIC:                           527.956\n",
      "Method:            Maximum Likelihood   BIC:                           541.840\n",
      "                                        No. Observations:                  756\n",
      "Date:                Sat, Apr 09 2022   Df Residuals:                      756\n",
      "Time:                        20:36:23   Df Model:                            0\n",
      "                              Volatility Model                              \n",
      "============================================================================\n",
      "                 coef    std err          t      P>|t|      95.0% Conf. Int.\n",
      "----------------------------------------------------------------------------\n",
      "omega      6.0045e-03  2.385e-03      2.517  1.183e-02 [1.329e-03,1.068e-02]\n",
      "alpha[1]       0.1896  6.231e-02      3.043  2.340e-03   [6.751e-02,  0.312]\n",
      "beta[1]        0.7774  5.945e-02     13.077  4.471e-39     [  0.661,  0.894]\n",
      "============================================================================\n",
      "\n",
      "Covariance estimator: robust\n"
     ]
    }
   ],
   "source": [
    "#Model Statistics\n",
    "print(JPM_Garch_model.summary())"
   ]
  },
  {
   "cell_type": "code",
   "execution_count": 301,
   "metadata": {},
   "outputs": [
    {
     "name": "stdout",
     "output_type": "stream",
     "text": [
      "                       Zero Mean - GARCH Model Results                        \n",
      "==============================================================================\n",
      "Dep. Variable:        SPY_Log_returns   R-squared:                       0.000\n",
      "Mean Model:                 Zero Mean   Adj. R-squared:                  0.001\n",
      "Vol Model:                      GARCH   Log-Likelihood:                297.678\n",
      "Distribution:                  Normal   AIC:                          -589.356\n",
      "Method:            Maximum Likelihood   BIC:                          -575.472\n",
      "                                        No. Observations:                  756\n",
      "Date:                Sat, Apr 09 2022   Df Residuals:                      756\n",
      "Time:                        20:36:23   Df Model:                            0\n",
      "                              Volatility Model                              \n",
      "============================================================================\n",
      "                 coef    std err          t      P>|t|      95.0% Conf. Int.\n",
      "----------------------------------------------------------------------------\n",
      "omega      1.8954e-03  5.993e-04      3.163  1.562e-03 [7.209e-04,3.070e-03]\n",
      "alpha[1]       0.2578  5.876e-02      4.388  1.142e-05     [  0.143,  0.373]\n",
      "beta[1]        0.7045  4.824e-02     14.606  2.573e-48     [  0.610,  0.799]\n",
      "============================================================================\n",
      "\n",
      "Covariance estimator: robust\n"
     ]
    }
   ],
   "source": [
    "print(SPY_Garch_model.summary())"
   ]
  },
  {
   "cell_type": "code",
   "execution_count": 302,
   "metadata": {},
   "outputs": [],
   "source": [
    "#Forecast Garch Values Function\n",
    "def Garch_Var(n, omega , alpha , beta, last_value, last_pct):\n",
    "    vols = [last_value]*(n+1)\n",
    "    returns = [last_pct]*(n+1)\n",
    "    for i in range(1,n+1):\n",
    "        vols[i] = (omega + (alpha * (returns[i-1]**2)) + (beta * vols[i-1]**2))**0.5\n",
    "        returns[i] = vols[i]/Scalar * np.random.normal(0,1) # Assumung returns have mean 0 and volatility is coming from GARCH model\n",
    "    return returns\n"
   ]
  },
  {
   "cell_type": "code",
   "execution_count": 303,
   "metadata": {},
   "outputs": [
    {
     "data": {
      "image/png": "[encoded data removed]",
      "text/plain": [
       "<Figure size 432x288 with 1 Axes>"
      ]
     },
     "metadata": {
      "needs_background": "light"
     },
     "output_type": "display_data"
    },
    {
     "data": {
      "image/png": "[encoded data removed]",
      "text/plain": [
       "<Figure size 432x288 with 1 Axes>"
      ]
     },
     "metadata": {
      "needs_background": "light"
     },
     "output_type": "display_data"
    }
   ],
   "source": [
    "#Get Volatility Estimates from the model results for period Dec 31st 2021 to Feb 28 2022\n",
    "Jpm_return_estimates = Garch_Var(Test_len, JPM_Garch_model.params[0],JPM_Garch_model.params[1],JPM_Garch_model.params[2],np.std(Train_data[\"JPM_Log_returns\"][1:]), Test_data[\"JPM_Log_returns\"].reset_index(drop=True)[0]/100)\n",
    "plt.plot([i*100 for i in Jpm_return_estimates])# in Percentages\n",
    "plt.plot(Test_data[\"JPM_Log_returns\"].reset_index(drop=True))\n",
    "plt.show()\n",
    "\n",
    "Spy_return_estimates = Garch_Var(Test_len, SPY_Garch_model.params[0],SPY_Garch_model.params[1],SPY_Garch_model.params[2],np.std(Train_data[\"SPY_Log_returns\"][1:]), Test_data[\"SPY_Log_returns\"].reset_index(drop=True)[0]/100)\n",
    "plt.plot([i*100 for i in Spy_return_estimates])\n",
    "plt.plot(Test_data[\"SPY_Log_returns\"].reset_index(drop=True))\n",
    "plt.show()\n"
   ]
  },
  {
   "cell_type": "code",
   "execution_count": 307,
   "metadata": {},
   "outputs": [
    {
     "name": "stdout",
     "output_type": "stream",
     "text": [
      "Correlation estimate for actual returns:  0.7765643056364291\n",
      "Correlation estimate for estmated returns:  -0.06778481551812185\n",
      "Correlation estimate for test returns:  0.45034748559231186\n",
      "Correlation estimate for test returns:  0.7659191212541699\n"
     ]
    }
   ],
   "source": [
    "#Correlation for Actual Data\n",
    "Corr_actual = np.corrcoef(Train_data['JPM_Log_returns'][1:], Train_data['SPY_Log_returns'][1:])\n",
    "print(\"Correlation estimate for actual returns: \",Corr_actual[0,1])\n",
    "\n",
    "#Correlation for Estimated Data\n",
    "Corr_Estimated = np.corrcoef(Jpm_return_estimates, Spy_return_estimates)\n",
    "print(\"Correlation estimate for estmated returns: \",Corr_Estimated[0,1])\n",
    "\n",
    "\n",
    "#Correlation for test Data\n",
    "Corr_test = np.corrcoef(Test_data['JPM_Log_returns'], Test_data['SPY_Log_returns'])\n",
    "print(\"Correlation estimate for test returns: \",Corr_test[0,1])\n",
    "\n",
    "#Model does not perform so well\n",
    "\n",
    "#Correlation for Full Data\n",
    "Corr_test = np.corrcoef(dataframe['JPM_Log_returns'][1:], dataframe['SPY_Log_returns'][1:])\n",
    "print(\"Correlation estimate for test returns: \",Corr_test[0,1])"
   ]
  },
  {
   "cell_type": "markdown",
   "metadata": {},
   "source": [
    "## Portfolio Analysis"
   ]
  },
  {
   "cell_type": "code",
   "execution_count": 305,
   "metadata": {},
   "outputs": [],
   "source": [
    "#Inital Asset Value \n",
    "Inv_Value_A = 1000000\n",
    "Inv_Value_B = 1000000\n",
    "Inv_Value_C = 2000000\n",
    "\n",
    "#VaR percentile\n",
    "VaR_Conf = 0.99\n",
    "temp_percentile_99 = (Total_len - Test_len)*(1-VaR_Conf)\n",
    "perc_99 = int(temp_percentile_99)\n",
    "perc_weight = temp_percentile_99 - perc_99"
   ]
  },
  {
   "cell_type": "markdown",
   "metadata": {},
   "source": [
    "### VaR Estimation"
   ]
  },
  {
   "cell_type": "code",
   "execution_count": 316,
   "metadata": {},
   "outputs": [
    {
     "name": "stdout",
     "output_type": "stream",
     "text": [
      "one day 99% Var and ES for JPM:  -62327.350037066135 -98637.81866914376\n",
      "one day 99% Var and ES for SPY:  -44964.77592045908 -69318.62748785698\n",
      "one day 99% Var and ES for the Portfolio:  -53646.06297876261 -83978.22307850036\n"
     ]
    }
   ],
   "source": [
    "JPM_Hist_Sim = [i*Inv_Value_A for i in dataframe[\"JPM\"].pct_change()[1:]]\n",
    "JPM_Hist_Sim.sort()\n",
    "JPM_VaR = perc_weight * JPM_Hist_Sim[perc_99 - 1] + (1-perc_weight) * JPM_Hist_Sim[perc_99]\n",
    "JPM_ES = np.mean(JPM_Hist_Sim[0:perc_99])\n",
    "print(\"one day 99% Var and ES for JPM: \",JPM_VaR, JPM_ES)\n",
    "\n",
    "SPY_Hist_Sim = [i*Inv_Value_A for i in dataframe[\"SPY\"].pct_change()[1:]]\n",
    "SPY_Hist_Sim.sort()\n",
    "SPY_VaR = perc_weight * SPY_Hist_Sim[perc_99 - 1] + (1-perc_weight) * SPY_Hist_Sim[perc_99]\n",
    "SPY_ES = np.mean(SPY_Hist_Sim[0:perc_99])\n",
    "print(\"one day 99% Var and ES for SPY: \",SPY_VaR, SPY_ES)\n",
    "\n",
    "Port_Hist_Sim = [0.5*(SPY_Hist_Sim[i]+JPM_Hist_Sim[i]) for i in range(len(SPY_Hist_Sim))]\n",
    "Port_Hist_Sim.sort()\n",
    "Port_VaR = perc_weight * Port_Hist_Sim[perc_99 - 1] + (1-perc_weight) * Port_Hist_Sim[perc_99]\n",
    "Port_ES = np.mean(Port_Hist_Sim[0:perc_99])\n",
    "print(\"one day 99% Var and ES for the Portfolio: \",Port_VaR, Port_ES)"
   ]
  },
  {
   "cell_type": "markdown",
   "metadata": {},
   "source": [
    "### Back testing"
   ]
  },
  {
   "cell_type": "code",
   "execution_count": 335,
   "metadata": {},
   "outputs": [
    {
     "data": {
      "text/plain": [
       "[-135455.2255672795,\n",
       " -82430.15475200121,\n",
       " -149648.77358426098,\n",
       " -105268.88932316203,\n",
       " -71239.3130258644,\n",
       " -62979.06387953534,\n",
       " -83443.3105519029]"
      ]
     },
     "execution_count": 335,
     "metadata": {},
     "output_type": "execute_result"
    }
   ],
   "source": [
    "#BackTesting \n",
    "BackTesting_Start_date = dt.datetime(2021,3,1)\n",
    "Backtest_data = dataframe.loc[dataframe['Date']< BackTesting_Start_date,\"JPM\"]\n",
    "\n",
    "Backtest_data = [i*Inv_Value_A for i in  Backtest_data.pct_change()[1:]]\n",
    "\n",
    "Exceptions = [i for i in Backtest_data if i<=JPM_VaR]\n",
    "[min(Backtest_data),JPM_VaR]\n",
    "Exceptions"
   ]
  }
 ],
 "metadata": {
  "interpreter": {
   "hash": "08abd7b7c8d0be127d4e4a7867fced7f62c6dcfa7739a0184e3b4f48aa7caea7"
  },
  "kernelspec": {
   "display_name": "Python 3.9.12 64-bit (windows store)",
   "language": "python",
   "name": "python3"
  },
  "language_info": {
   "codemirror_mode": {
    "name": "ipython",
    "version": 3
   },
   "file_extension": ".py",
   "mimetype": "text/x-python",
   "name": "python",
   "nbconvert_exporter": "python",
   "pygments_lexer": "ipython3",
   "version": "3.9.12"
  },
  "orig_nbformat": 4
 },
 "nbformat": 4,
 "nbformat_minor": 2
}
